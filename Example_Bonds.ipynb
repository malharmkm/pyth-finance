{
 "cells": [
  {
   "cell_type": "code",
   "execution_count": 2,
   "metadata": {},
   "outputs": [],
   "source": [
    "%load_ext autoreload\n",
    "%autoreload 2\n",
    "\n",
    "import bonds as bonds\n",
    "\n",
    "price = bonds.bond_price(100, 1.5, 0.0936, 5.75, 2)"
   ]
  },
  {
   "cell_type": "code",
   "execution_count": 35,
   "metadata": {},
   "outputs": [],
   "source": [
    "ytm = bonds.bond_ytm(95.0549, 100, 1.5, 5.75, 2)"
   ]
  },
  {
   "cell_type": "code",
   "execution_count": 37,
   "metadata": {},
   "outputs": [],
   "source": [
    "dirty_price = bonds.dirty_price(2, 365, 100, 1.5, 0.0936, 5.75, 2)\n",
    "clean_price = bonds.bond_price(100, 1.5, 0.0936, 5.75, 2)"
   ]
  },
  {
   "cell_type": "code",
   "execution_count": 38,
   "metadata": {},
   "outputs": [
    {
     "name": "stdout",
     "output_type": "stream",
     "text": [
      "95.07066773325113\n",
      "95.0549143085936\n"
     ]
    }
   ],
   "source": [
    "print(dirty_price)\n",
    "print(clean_price)"
   ]
  },
  {
   "cell_type": "code",
   "execution_count": 62,
   "metadata": {},
   "outputs": [],
   "source": [
    "import numpy as np\n",
    "j = np.arange(0.01, 0.9, 0.001)\n",
    "krd = []\n",
    "for i in np.arange(0.01, 0.9, 0.001):\n",
    "    k = bonds.key_rate_dur(i, 1.5, 5.75, 2, 0.01)\n",
    "    krd.append(k)\n",
    "    \n",
    "import matplotlib.pyplot as plt\n",
    "plt.plot(j, krd)"
   ]
  },
  {
   "cell_type": "markdown",
   "metadata": {},
   "source": []
  },
  {
   "cell_type": "code",
   "execution_count": null,
   "metadata": {},
   "outputs": [],
   "source": []
  }
 ],
 "metadata": {
  "kernelspec": {
   "display_name": "Python 3",
   "language": "python",
   "name": "python3"
  },
  "language_info": {
   "codemirror_mode": {
    "name": "ipython",
    "version": 3
   },
   "file_extension": ".py",
   "mimetype": "text/x-python",
   "name": "python",
   "nbconvert_exporter": "python",
   "pygments_lexer": "ipython3",
   "version": "3.8.3"
  }
 },
 "nbformat": 4,
 "nbformat_minor": 4
}
